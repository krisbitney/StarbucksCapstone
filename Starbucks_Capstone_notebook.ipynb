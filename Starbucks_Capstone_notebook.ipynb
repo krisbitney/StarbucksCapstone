{
 "cells": [
  {
   "cell_type": "markdown",
   "metadata": {},
   "source": [
    "# Starbucks Capstone Challenge\n",
    "\n",
    "### Introduction\n",
    "\n",
    "This data set contains simulated data that mimics customer behavior on the Starbucks rewards mobile app. Once every few days, Starbucks sends out an offer to users of the mobile app. An offer can be merely an advertisement for a drink or an actual offer such as a discount or BOGO (buy one get one free). Some users might not receive any offer during certain weeks. \n",
    "\n",
    "Not all users receive the same offer, and that is the challenge to solve with this data set.\n",
    "\n",
    "Your task is to combine transaction, demographic and offer data to determine which demographic groups respond best to which offer type. This data set is a simplified version of the real Starbucks app because the underlying simulator only has one product whereas Starbucks actually sells dozens of products.\n",
    "\n",
    "Every offer has a validity period before the offer expires. As an example, a BOGO offer might be valid for only 5 days. You'll see in the data set that informational offers have a validity period even though these ads are merely providing information about a product; for example, if an informational offer has 7 days of validity, you can assume the customer is feeling the influence of the offer for 7 days after receiving the advertisement.\n",
    "\n",
    "You'll be given transactional data showing user purchases made on the app including the timestamp of purchase and the amount of money spent on a purchase. This transactional data also has a record for each offer that a user receives as well as a record for when a user actually views the offer. There are also records for when a user completes an offer. \n",
    "\n",
    "Keep in mind as well that someone using the app might make a purchase through the app without having received an offer or seen an offer.\n",
    "\n",
    "### Example\n",
    "\n",
    "To give an example, a user could receive a discount offer buy 10 dollars get 2 off on Monday. The offer is valid for 10 days from receipt. If the customer accumulates at least 10 dollars in purchases during the validity period, the customer completes the offer.\n",
    "\n",
    "However, there are a few things to watch out for in this data set. Customers do not opt into the offers that they receive; in other words, a user can receive an offer, never actually view the offer, and still complete the offer. For example, a user might receive the \"buy 10 dollars get 2 dollars off offer\", but the user never opens the offer during the 10 day validity period. The customer spends 15 dollars during those ten days. There will be an offer completion record in the data set; however, the customer was not influenced by the offer because the customer never viewed the offer.\n",
    "\n",
    "### Cleaning\n",
    "\n",
    "This makes data cleaning especially important and tricky.\n",
    "\n",
    "You'll also want to take into account that some demographic groups will make purchases even if they don't receive an offer. From a business perspective, if a customer is going to make a 10 dollar purchase without an offer anyway, you wouldn't want to send a buy 10 dollars get 2 dollars off offer. You'll want to try to assess what a certain demographic group will buy when not receiving any offers.\n",
    "\n",
    "### Final Advice\n",
    "\n",
    "Because this is a capstone project, you are free to analyze the data any way you see fit. For example, you could build a machine learning model that predicts how much someone will spend based on demographics and offer type. Or you could build a model that predicts whether or not someone will respond to an offer. Or, you don't need to build a machine learning model at all. You could develop a set of heuristics that determine what offer you should send to each customer (i.e., 75 percent of women customers who were 35 years old responded to offer A vs 40 percent from the same demographic to offer B, so send offer A)."
   ]
  },
  {
   "cell_type": "markdown",
   "metadata": {},
   "source": [
    "# Data Sets\n",
    "\n",
    "The data is contained in three files:\n",
    "\n",
    "* portfolio.json - containing offer ids and meta data about each offer (duration, type, etc.)\n",
    "* profile.json - demographic data for each customer\n",
    "* transcript.json - records for transactions, offers received, offers viewed, and offers completed\n",
    "\n",
    "Here is the schema and explanation of each variable in the files:\n",
    "\n",
    "**portfolio.json**\n",
    "* id (string) - offer id\n",
    "* offer_type (string) - type of offer ie BOGO, discount, informational\n",
    "* difficulty (int) - minimum required spend to complete an offer\n",
    "* reward (int) - reward given for completing an offer\n",
    "* duration (int) - time for offer to be open, in days\n",
    "* channels (list of strings)\n",
    "\n",
    "**profile.json**\n",
    "* age (int) - age of the customer \n",
    "* became_member_on (int) - date when customer created an app account\n",
    "* gender (str) - gender of the customer (note some entries contain 'O' for other rather than M or F)\n",
    "* id (str) - customer id\n",
    "* income (float) - customer's income\n",
    "\n",
    "**transcript.json**\n",
    "* event (str) - record description (ie transaction, offer received, offer viewed, etc.)\n",
    "* person (str) - customer id\n",
    "* time (int) - time in hours since start of test. The data begins at time t=0\n",
    "* value - (dict of strings) - either an offer id or transaction amount depending on the record\n",
    "\n",
    "**Note:** If you are using the workspace, you will need to go to the terminal and run the command `conda update pandas` before reading in the files. This is because the version of pandas in the workspace cannot read in the transcript.json file correctly, but the newest version of pandas can. You can access the termnal from the orange icon in the top left of this notebook.  \n",
    "\n",
    "You can see how to access the terminal and how the install works using the two images below.  First you need to access the terminal:\n",
    "\n",
    "<img src=\"pic1.png\"/>\n",
    "\n",
    "Then you will want to run the above command:\n",
    "\n",
    "<img src=\"pic2.png\"/>\n",
    "\n",
    "Finally, when you enter back into the notebook (use the jupyter icon again), you should be able to run the below cell without any errors."
   ]
  },
  {
   "cell_type": "code",
   "execution_count": 134,
   "metadata": {},
   "outputs": [
    {
     "ename": "ModuleNotFoundError",
     "evalue": "No module named 'statsmodels'",
     "output_type": "error",
     "traceback": [
      "\u001b[0;31m---------------------------------------------------------------------------\u001b[0m",
      "\u001b[0;31mModuleNotFoundError\u001b[0m                       Traceback (most recent call last)",
      "\u001b[0;32m<ipython-input-134-9784bc0d9260>\u001b[0m in \u001b[0;36m<module>\u001b[0;34m\u001b[0m\n\u001b[1;32m      6\u001b[0m \u001b[0;32mimport\u001b[0m \u001b[0mmatplotlib\u001b[0m\u001b[0;34m.\u001b[0m\u001b[0mpyplot\u001b[0m \u001b[0;32mas\u001b[0m \u001b[0mplt\u001b[0m\u001b[0;34m\u001b[0m\u001b[0;34m\u001b[0m\u001b[0m\n\u001b[1;32m      7\u001b[0m \u001b[0;32mimport\u001b[0m \u001b[0mseaborn\u001b[0m \u001b[0;32mas\u001b[0m \u001b[0msns\u001b[0m\u001b[0;34m\u001b[0m\u001b[0;34m\u001b[0m\u001b[0m\n\u001b[0;32m----> 8\u001b[0;31m \u001b[0;32mimport\u001b[0m \u001b[0mstatsmodels\u001b[0m\u001b[0;34m.\u001b[0m\u001b[0mapi\u001b[0m \u001b[0;32mas\u001b[0m \u001b[0msm\u001b[0m\u001b[0;34m\u001b[0m\u001b[0;34m\u001b[0m\u001b[0m\n\u001b[0m\u001b[1;32m      9\u001b[0m \u001b[0;34m\u001b[0m\u001b[0m\n\u001b[1;32m     10\u001b[0m \u001b[0;31m# read in the json files\u001b[0m\u001b[0;34m\u001b[0m\u001b[0;34m\u001b[0m\u001b[0;34m\u001b[0m\u001b[0m\n",
      "\u001b[0;31mModuleNotFoundError\u001b[0m: No module named 'statsmodels'"
     ]
    }
   ],
   "source": [
    "import pandas as pd\n",
    "import numpy as np\n",
    "import scipy.stats as stats\n",
    "import math\n",
    "import json\n",
    "import matplotlib.pyplot as plt\n",
    "import seaborn as sns\n",
    "import statsmodels.api as sm\n",
    "import statsmodels.formula.api as smf\n",
    "\n",
    "# read in the json files\n",
    "portfolio = pd.read_json('data/portfolio.json', orient='records', lines=True)\n",
    "profile = pd.read_json('data/profile.json', orient='records', lines=True)\n",
    "transcript = pd.read_json('data/transcript.json', orient='records', lines=True)"
   ]
  },
  {
   "cell_type": "code",
   "execution_count": 2,
   "metadata": {},
   "outputs": [
    {
     "name": "stdout",
     "output_type": "stream",
     "text": [
      "(10, 6)\n"
     ]
    },
    {
     "data": {
      "text/html": [
       "<div>\n",
       "<style scoped>\n",
       "    .dataframe tbody tr th:only-of-type {\n",
       "        vertical-align: middle;\n",
       "    }\n",
       "\n",
       "    .dataframe tbody tr th {\n",
       "        vertical-align: top;\n",
       "    }\n",
       "\n",
       "    .dataframe thead th {\n",
       "        text-align: right;\n",
       "    }\n",
       "</style>\n",
       "<table border=\"1\" class=\"dataframe\">\n",
       "  <thead>\n",
       "    <tr style=\"text-align: right;\">\n",
       "      <th></th>\n",
       "      <th>channels</th>\n",
       "      <th>difficulty</th>\n",
       "      <th>duration</th>\n",
       "      <th>id</th>\n",
       "      <th>offer_type</th>\n",
       "      <th>reward</th>\n",
       "    </tr>\n",
       "  </thead>\n",
       "  <tbody>\n",
       "    <tr>\n",
       "      <th>0</th>\n",
       "      <td>[email, mobile, social]</td>\n",
       "      <td>10</td>\n",
       "      <td>7</td>\n",
       "      <td>ae264e3637204a6fb9bb56bc8210ddfd</td>\n",
       "      <td>bogo</td>\n",
       "      <td>10</td>\n",
       "    </tr>\n",
       "    <tr>\n",
       "      <th>1</th>\n",
       "      <td>[web, email, mobile, social]</td>\n",
       "      <td>10</td>\n",
       "      <td>5</td>\n",
       "      <td>4d5c57ea9a6940dd891ad53e9dbe8da0</td>\n",
       "      <td>bogo</td>\n",
       "      <td>10</td>\n",
       "    </tr>\n",
       "    <tr>\n",
       "      <th>2</th>\n",
       "      <td>[web, email, mobile]</td>\n",
       "      <td>0</td>\n",
       "      <td>4</td>\n",
       "      <td>3f207df678b143eea3cee63160fa8bed</td>\n",
       "      <td>informational</td>\n",
       "      <td>0</td>\n",
       "    </tr>\n",
       "    <tr>\n",
       "      <th>3</th>\n",
       "      <td>[web, email, mobile]</td>\n",
       "      <td>5</td>\n",
       "      <td>7</td>\n",
       "      <td>9b98b8c7a33c4b65b9aebfe6a799e6d9</td>\n",
       "      <td>bogo</td>\n",
       "      <td>5</td>\n",
       "    </tr>\n",
       "    <tr>\n",
       "      <th>4</th>\n",
       "      <td>[web, email]</td>\n",
       "      <td>20</td>\n",
       "      <td>10</td>\n",
       "      <td>0b1e1539f2cc45b7b9fa7c272da2e1d7</td>\n",
       "      <td>discount</td>\n",
       "      <td>5</td>\n",
       "    </tr>\n",
       "    <tr>\n",
       "      <th>5</th>\n",
       "      <td>[web, email, mobile, social]</td>\n",
       "      <td>7</td>\n",
       "      <td>7</td>\n",
       "      <td>2298d6c36e964ae4a3e7e9706d1fb8c2</td>\n",
       "      <td>discount</td>\n",
       "      <td>3</td>\n",
       "    </tr>\n",
       "    <tr>\n",
       "      <th>6</th>\n",
       "      <td>[web, email, mobile, social]</td>\n",
       "      <td>10</td>\n",
       "      <td>10</td>\n",
       "      <td>fafdcd668e3743c1bb461111dcafc2a4</td>\n",
       "      <td>discount</td>\n",
       "      <td>2</td>\n",
       "    </tr>\n",
       "    <tr>\n",
       "      <th>7</th>\n",
       "      <td>[email, mobile, social]</td>\n",
       "      <td>0</td>\n",
       "      <td>3</td>\n",
       "      <td>5a8bc65990b245e5a138643cd4eb9837</td>\n",
       "      <td>informational</td>\n",
       "      <td>0</td>\n",
       "    </tr>\n",
       "    <tr>\n",
       "      <th>8</th>\n",
       "      <td>[web, email, mobile, social]</td>\n",
       "      <td>5</td>\n",
       "      <td>5</td>\n",
       "      <td>f19421c1d4aa40978ebb69ca19b0e20d</td>\n",
       "      <td>bogo</td>\n",
       "      <td>5</td>\n",
       "    </tr>\n",
       "    <tr>\n",
       "      <th>9</th>\n",
       "      <td>[web, email, mobile]</td>\n",
       "      <td>10</td>\n",
       "      <td>7</td>\n",
       "      <td>2906b810c7d4411798c6938adc9daaa5</td>\n",
       "      <td>discount</td>\n",
       "      <td>2</td>\n",
       "    </tr>\n",
       "  </tbody>\n",
       "</table>\n",
       "</div>"
      ],
      "text/plain": [
       "                       channels  difficulty  duration  \\\n",
       "0       [email, mobile, social]          10         7   \n",
       "1  [web, email, mobile, social]          10         5   \n",
       "2          [web, email, mobile]           0         4   \n",
       "3          [web, email, mobile]           5         7   \n",
       "4                  [web, email]          20        10   \n",
       "5  [web, email, mobile, social]           7         7   \n",
       "6  [web, email, mobile, social]          10        10   \n",
       "7       [email, mobile, social]           0         3   \n",
       "8  [web, email, mobile, social]           5         5   \n",
       "9          [web, email, mobile]          10         7   \n",
       "\n",
       "                                 id     offer_type  reward  \n",
       "0  ae264e3637204a6fb9bb56bc8210ddfd           bogo      10  \n",
       "1  4d5c57ea9a6940dd891ad53e9dbe8da0           bogo      10  \n",
       "2  3f207df678b143eea3cee63160fa8bed  informational       0  \n",
       "3  9b98b8c7a33c4b65b9aebfe6a799e6d9           bogo       5  \n",
       "4  0b1e1539f2cc45b7b9fa7c272da2e1d7       discount       5  \n",
       "5  2298d6c36e964ae4a3e7e9706d1fb8c2       discount       3  \n",
       "6  fafdcd668e3743c1bb461111dcafc2a4       discount       2  \n",
       "7  5a8bc65990b245e5a138643cd4eb9837  informational       0  \n",
       "8  f19421c1d4aa40978ebb69ca19b0e20d           bogo       5  \n",
       "9  2906b810c7d4411798c6938adc9daaa5       discount       2  "
      ]
     },
     "execution_count": 2,
     "metadata": {},
     "output_type": "execute_result"
    }
   ],
   "source": [
    "print(portfolio.shape)\n",
    "portfolio"
   ]
  },
  {
   "cell_type": "code",
   "execution_count": 3,
   "metadata": {},
   "outputs": [
    {
     "name": "stdout",
     "output_type": "stream",
     "text": [
      "(17000, 5)\n"
     ]
    },
    {
     "data": {
      "text/html": [
       "<div>\n",
       "<style scoped>\n",
       "    .dataframe tbody tr th:only-of-type {\n",
       "        vertical-align: middle;\n",
       "    }\n",
       "\n",
       "    .dataframe tbody tr th {\n",
       "        vertical-align: top;\n",
       "    }\n",
       "\n",
       "    .dataframe thead th {\n",
       "        text-align: right;\n",
       "    }\n",
       "</style>\n",
       "<table border=\"1\" class=\"dataframe\">\n",
       "  <thead>\n",
       "    <tr style=\"text-align: right;\">\n",
       "      <th></th>\n",
       "      <th>age</th>\n",
       "      <th>became_member_on</th>\n",
       "      <th>gender</th>\n",
       "      <th>id</th>\n",
       "      <th>income</th>\n",
       "    </tr>\n",
       "  </thead>\n",
       "  <tbody>\n",
       "    <tr>\n",
       "      <th>0</th>\n",
       "      <td>118</td>\n",
       "      <td>20170212</td>\n",
       "      <td>None</td>\n",
       "      <td>68be06ca386d4c31939f3a4f0e3dd783</td>\n",
       "      <td>NaN</td>\n",
       "    </tr>\n",
       "    <tr>\n",
       "      <th>1</th>\n",
       "      <td>55</td>\n",
       "      <td>20170715</td>\n",
       "      <td>F</td>\n",
       "      <td>0610b486422d4921ae7d2bf64640c50b</td>\n",
       "      <td>112000.0</td>\n",
       "    </tr>\n",
       "    <tr>\n",
       "      <th>2</th>\n",
       "      <td>118</td>\n",
       "      <td>20180712</td>\n",
       "      <td>None</td>\n",
       "      <td>38fe809add3b4fcf9315a9694bb96ff5</td>\n",
       "      <td>NaN</td>\n",
       "    </tr>\n",
       "    <tr>\n",
       "      <th>3</th>\n",
       "      <td>75</td>\n",
       "      <td>20170509</td>\n",
       "      <td>F</td>\n",
       "      <td>78afa995795e4d85b5d9ceeca43f5fef</td>\n",
       "      <td>100000.0</td>\n",
       "    </tr>\n",
       "    <tr>\n",
       "      <th>4</th>\n",
       "      <td>118</td>\n",
       "      <td>20170804</td>\n",
       "      <td>None</td>\n",
       "      <td>a03223e636434f42ac4c3df47e8bac43</td>\n",
       "      <td>NaN</td>\n",
       "    </tr>\n",
       "  </tbody>\n",
       "</table>\n",
       "</div>"
      ],
      "text/plain": [
       "   age  became_member_on gender                                id    income\n",
       "0  118          20170212   None  68be06ca386d4c31939f3a4f0e3dd783       NaN\n",
       "1   55          20170715      F  0610b486422d4921ae7d2bf64640c50b  112000.0\n",
       "2  118          20180712   None  38fe809add3b4fcf9315a9694bb96ff5       NaN\n",
       "3   75          20170509      F  78afa995795e4d85b5d9ceeca43f5fef  100000.0\n",
       "4  118          20170804   None  a03223e636434f42ac4c3df47e8bac43       NaN"
      ]
     },
     "execution_count": 3,
     "metadata": {},
     "output_type": "execute_result"
    }
   ],
   "source": [
    "print(profile.shape)\n",
    "profile.head()"
   ]
  },
  {
   "cell_type": "code",
   "execution_count": 4,
   "metadata": {},
   "outputs": [
    {
     "name": "stdout",
     "output_type": "stream",
     "text": [
      "(306534, 4)\n"
     ]
    },
    {
     "data": {
      "text/html": [
       "<div>\n",
       "<style scoped>\n",
       "    .dataframe tbody tr th:only-of-type {\n",
       "        vertical-align: middle;\n",
       "    }\n",
       "\n",
       "    .dataframe tbody tr th {\n",
       "        vertical-align: top;\n",
       "    }\n",
       "\n",
       "    .dataframe thead th {\n",
       "        text-align: right;\n",
       "    }\n",
       "</style>\n",
       "<table border=\"1\" class=\"dataframe\">\n",
       "  <thead>\n",
       "    <tr style=\"text-align: right;\">\n",
       "      <th></th>\n",
       "      <th>event</th>\n",
       "      <th>person</th>\n",
       "      <th>time</th>\n",
       "      <th>value</th>\n",
       "    </tr>\n",
       "  </thead>\n",
       "  <tbody>\n",
       "    <tr>\n",
       "      <th>0</th>\n",
       "      <td>offer received</td>\n",
       "      <td>78afa995795e4d85b5d9ceeca43f5fef</td>\n",
       "      <td>0</td>\n",
       "      <td>{'offer id': '9b98b8c7a33c4b65b9aebfe6a799e6d9'}</td>\n",
       "    </tr>\n",
       "    <tr>\n",
       "      <th>1</th>\n",
       "      <td>offer received</td>\n",
       "      <td>a03223e636434f42ac4c3df47e8bac43</td>\n",
       "      <td>0</td>\n",
       "      <td>{'offer id': '0b1e1539f2cc45b7b9fa7c272da2e1d7'}</td>\n",
       "    </tr>\n",
       "    <tr>\n",
       "      <th>2</th>\n",
       "      <td>offer received</td>\n",
       "      <td>e2127556f4f64592b11af22de27a7932</td>\n",
       "      <td>0</td>\n",
       "      <td>{'offer id': '2906b810c7d4411798c6938adc9daaa5'}</td>\n",
       "    </tr>\n",
       "    <tr>\n",
       "      <th>3</th>\n",
       "      <td>offer received</td>\n",
       "      <td>8ec6ce2a7e7949b1bf142def7d0e0586</td>\n",
       "      <td>0</td>\n",
       "      <td>{'offer id': 'fafdcd668e3743c1bb461111dcafc2a4'}</td>\n",
       "    </tr>\n",
       "    <tr>\n",
       "      <th>4</th>\n",
       "      <td>offer received</td>\n",
       "      <td>68617ca6246f4fbc85e91a2a49552598</td>\n",
       "      <td>0</td>\n",
       "      <td>{'offer id': '4d5c57ea9a6940dd891ad53e9dbe8da0'}</td>\n",
       "    </tr>\n",
       "  </tbody>\n",
       "</table>\n",
       "</div>"
      ],
      "text/plain": [
       "            event                            person  time  \\\n",
       "0  offer received  78afa995795e4d85b5d9ceeca43f5fef     0   \n",
       "1  offer received  a03223e636434f42ac4c3df47e8bac43     0   \n",
       "2  offer received  e2127556f4f64592b11af22de27a7932     0   \n",
       "3  offer received  8ec6ce2a7e7949b1bf142def7d0e0586     0   \n",
       "4  offer received  68617ca6246f4fbc85e91a2a49552598     0   \n",
       "\n",
       "                                              value  \n",
       "0  {'offer id': '9b98b8c7a33c4b65b9aebfe6a799e6d9'}  \n",
       "1  {'offer id': '0b1e1539f2cc45b7b9fa7c272da2e1d7'}  \n",
       "2  {'offer id': '2906b810c7d4411798c6938adc9daaa5'}  \n",
       "3  {'offer id': 'fafdcd668e3743c1bb461111dcafc2a4'}  \n",
       "4  {'offer id': '4d5c57ea9a6940dd891ad53e9dbe8da0'}  "
      ]
     },
     "execution_count": 4,
     "metadata": {},
     "output_type": "execute_result"
    }
   ],
   "source": [
    "print(transcript.shape)\n",
    "transcript.head()"
   ]
  },
  {
   "cell_type": "markdown",
   "metadata": {},
   "source": [
    "## Clean portfolio dataframe"
   ]
  },
  {
   "cell_type": "code",
   "execution_count": 5,
   "metadata": {},
   "outputs": [],
   "source": [
    "def clean_portfolio_df(df):\n",
    "    df = df.copy()\n",
    "    # convert channels column to dummies\n",
    "    df['web'] = df['channels'].apply(lambda x: 1 if 'web' in x else 0)\n",
    "    df['email'] = df['channels'].apply(lambda x: 1 if 'email' in x else 0)\n",
    "    df['mobile'] = df['channels'].apply(lambda x: 1 if 'mobile' in x else 0)\n",
    "    df['social'] = df['channels'].apply(lambda x: 1 if 'social' in x else 0)\n",
    "    df = df.drop(columns='channels')\n",
    "    # convert offer_type to dummies\n",
    "    df = pd.get_dummies(df, columns=['offer_type'])\n",
    "    # change name of reward column because I use this name in transcript df\n",
    "    df = df.rename(columns={'reward': 'offer_reward'})\n",
    "    # make id the index\n",
    "    df = df.set_index('id')\n",
    "    return df"
   ]
  },
  {
   "cell_type": "code",
   "execution_count": 6,
   "metadata": {},
   "outputs": [
    {
     "data": {
      "text/html": [
       "<div>\n",
       "<style scoped>\n",
       "    .dataframe tbody tr th:only-of-type {\n",
       "        vertical-align: middle;\n",
       "    }\n",
       "\n",
       "    .dataframe tbody tr th {\n",
       "        vertical-align: top;\n",
       "    }\n",
       "\n",
       "    .dataframe thead th {\n",
       "        text-align: right;\n",
       "    }\n",
       "</style>\n",
       "<table border=\"1\" class=\"dataframe\">\n",
       "  <thead>\n",
       "    <tr style=\"text-align: right;\">\n",
       "      <th></th>\n",
       "      <th>difficulty</th>\n",
       "      <th>duration</th>\n",
       "      <th>offer_reward</th>\n",
       "      <th>web</th>\n",
       "      <th>email</th>\n",
       "      <th>mobile</th>\n",
       "      <th>social</th>\n",
       "      <th>offer_type_bogo</th>\n",
       "      <th>offer_type_discount</th>\n",
       "      <th>offer_type_informational</th>\n",
       "    </tr>\n",
       "    <tr>\n",
       "      <th>id</th>\n",
       "      <th></th>\n",
       "      <th></th>\n",
       "      <th></th>\n",
       "      <th></th>\n",
       "      <th></th>\n",
       "      <th></th>\n",
       "      <th></th>\n",
       "      <th></th>\n",
       "      <th></th>\n",
       "      <th></th>\n",
       "    </tr>\n",
       "  </thead>\n",
       "  <tbody>\n",
       "    <tr>\n",
       "      <th>ae264e3637204a6fb9bb56bc8210ddfd</th>\n",
       "      <td>10</td>\n",
       "      <td>7</td>\n",
       "      <td>10</td>\n",
       "      <td>0</td>\n",
       "      <td>1</td>\n",
       "      <td>1</td>\n",
       "      <td>1</td>\n",
       "      <td>1</td>\n",
       "      <td>0</td>\n",
       "      <td>0</td>\n",
       "    </tr>\n",
       "    <tr>\n",
       "      <th>4d5c57ea9a6940dd891ad53e9dbe8da0</th>\n",
       "      <td>10</td>\n",
       "      <td>5</td>\n",
       "      <td>10</td>\n",
       "      <td>1</td>\n",
       "      <td>1</td>\n",
       "      <td>1</td>\n",
       "      <td>1</td>\n",
       "      <td>1</td>\n",
       "      <td>0</td>\n",
       "      <td>0</td>\n",
       "    </tr>\n",
       "    <tr>\n",
       "      <th>3f207df678b143eea3cee63160fa8bed</th>\n",
       "      <td>0</td>\n",
       "      <td>4</td>\n",
       "      <td>0</td>\n",
       "      <td>1</td>\n",
       "      <td>1</td>\n",
       "      <td>1</td>\n",
       "      <td>0</td>\n",
       "      <td>0</td>\n",
       "      <td>0</td>\n",
       "      <td>1</td>\n",
       "    </tr>\n",
       "    <tr>\n",
       "      <th>9b98b8c7a33c4b65b9aebfe6a799e6d9</th>\n",
       "      <td>5</td>\n",
       "      <td>7</td>\n",
       "      <td>5</td>\n",
       "      <td>1</td>\n",
       "      <td>1</td>\n",
       "      <td>1</td>\n",
       "      <td>0</td>\n",
       "      <td>1</td>\n",
       "      <td>0</td>\n",
       "      <td>0</td>\n",
       "    </tr>\n",
       "    <tr>\n",
       "      <th>0b1e1539f2cc45b7b9fa7c272da2e1d7</th>\n",
       "      <td>20</td>\n",
       "      <td>10</td>\n",
       "      <td>5</td>\n",
       "      <td>1</td>\n",
       "      <td>1</td>\n",
       "      <td>0</td>\n",
       "      <td>0</td>\n",
       "      <td>0</td>\n",
       "      <td>1</td>\n",
       "      <td>0</td>\n",
       "    </tr>\n",
       "  </tbody>\n",
       "</table>\n",
       "</div>"
      ],
      "text/plain": [
       "                                  difficulty  duration  offer_reward  web  \\\n",
       "id                                                                          \n",
       "ae264e3637204a6fb9bb56bc8210ddfd          10         7            10    0   \n",
       "4d5c57ea9a6940dd891ad53e9dbe8da0          10         5            10    1   \n",
       "3f207df678b143eea3cee63160fa8bed           0         4             0    1   \n",
       "9b98b8c7a33c4b65b9aebfe6a799e6d9           5         7             5    1   \n",
       "0b1e1539f2cc45b7b9fa7c272da2e1d7          20        10             5    1   \n",
       "\n",
       "                                  email  mobile  social  offer_type_bogo  \\\n",
       "id                                                                         \n",
       "ae264e3637204a6fb9bb56bc8210ddfd      1       1       1                1   \n",
       "4d5c57ea9a6940dd891ad53e9dbe8da0      1       1       1                1   \n",
       "3f207df678b143eea3cee63160fa8bed      1       1       0                0   \n",
       "9b98b8c7a33c4b65b9aebfe6a799e6d9      1       1       0                1   \n",
       "0b1e1539f2cc45b7b9fa7c272da2e1d7      1       0       0                0   \n",
       "\n",
       "                                  offer_type_discount  \\\n",
       "id                                                      \n",
       "ae264e3637204a6fb9bb56bc8210ddfd                    0   \n",
       "4d5c57ea9a6940dd891ad53e9dbe8da0                    0   \n",
       "3f207df678b143eea3cee63160fa8bed                    0   \n",
       "9b98b8c7a33c4b65b9aebfe6a799e6d9                    0   \n",
       "0b1e1539f2cc45b7b9fa7c272da2e1d7                    1   \n",
       "\n",
       "                                  offer_type_informational  \n",
       "id                                                          \n",
       "ae264e3637204a6fb9bb56bc8210ddfd                         0  \n",
       "4d5c57ea9a6940dd891ad53e9dbe8da0                         0  \n",
       "3f207df678b143eea3cee63160fa8bed                         1  \n",
       "9b98b8c7a33c4b65b9aebfe6a799e6d9                         0  \n",
       "0b1e1539f2cc45b7b9fa7c272da2e1d7                         0  "
      ]
     },
     "execution_count": 6,
     "metadata": {},
     "output_type": "execute_result"
    }
   ],
   "source": [
    "clean_portfolio_df(portfolio).head()"
   ]
  },
  {
   "cell_type": "code",
   "execution_count": 7,
   "metadata": {},
   "outputs": [
    {
     "data": {
      "text/plain": [
       "Index(['difficulty', 'duration', 'offer_reward', 'web', 'email', 'mobile',\n",
       "       'social', 'offer_type_bogo', 'offer_type_discount',\n",
       "       'offer_type_informational'],\n",
       "      dtype='object')"
      ]
     },
     "execution_count": 7,
     "metadata": {},
     "output_type": "execute_result"
    }
   ],
   "source": [
    "clean_portfolio_df(portfolio).columns"
   ]
  },
  {
   "cell_type": "markdown",
   "metadata": {},
   "source": [
    "## Clean profile dataframe"
   ]
  },
  {
   "cell_type": "code",
   "execution_count": 89,
   "metadata": {},
   "outputs": [],
   "source": [
    "def clean_profile_df(df):\n",
    "    df = df.copy()\n",
    "    # missing age values are coded as 118; recode as NaN\n",
    "    df['age'] = df['age'].replace([118], [np.nan])\n",
    "    # recode date values as datetime\n",
    "    df['became_member_on'] = df['became_member_on'].astype(str)\n",
    "    df['became_member_on'] = pd.to_datetime(df['became_member_on'], format='%Y%m%d') - pd.datetime(1970,1,1)\n",
    "    df['became_member_on'] = df['became_member_on'].apply(lambda x: x.days)\n",
    "    # recode gender to dummies\n",
    "    df1 = pd.get_dummies(df, columns=['gender'])\n",
    "    df1.loc[df.gender.isnull(), df1.columns.str.startswith(\"gender_\")] = np.nan\n",
    "    df1 = df1.drop(columns='gender_M')\n",
    "    df = df1.set_index('id')\n",
    "    return df"
   ]
  },
  {
   "cell_type": "code",
   "execution_count": 90,
   "metadata": {},
   "outputs": [
    {
     "name": "stdout",
     "output_type": "stream",
     "text": [
      "duplicates in profile df: 1237\n",
      "\n",
      "missing values in profile df:\n"
     ]
    },
    {
     "data": {
      "text/plain": [
       "age                 2175\n",
       "became_member_on       0\n",
       "income              2175\n",
       "gender_F            2175\n",
       "gender_O            2175\n",
       "dtype: int64"
      ]
     },
     "execution_count": 90,
     "metadata": {},
     "output_type": "execute_result"
    }
   ],
   "source": [
    "profile_df = clean_profile_df(profile)\n",
    "print(f'duplicates in profile df: {profile_df.duplicated().sum()}')\n",
    "print()\n",
    "print('missing values in profile df:')\n",
    "profile_df.isna().sum()"
   ]
  },
  {
   "cell_type": "code",
   "execution_count": 91,
   "metadata": {},
   "outputs": [
    {
     "data": {
      "text/html": [
       "<div>\n",
       "<style scoped>\n",
       "    .dataframe tbody tr th:only-of-type {\n",
       "        vertical-align: middle;\n",
       "    }\n",
       "\n",
       "    .dataframe tbody tr th {\n",
       "        vertical-align: top;\n",
       "    }\n",
       "\n",
       "    .dataframe thead th {\n",
       "        text-align: right;\n",
       "    }\n",
       "</style>\n",
       "<table border=\"1\" class=\"dataframe\">\n",
       "  <thead>\n",
       "    <tr style=\"text-align: right;\">\n",
       "      <th></th>\n",
       "      <th>age</th>\n",
       "      <th>became_member_on</th>\n",
       "      <th>income</th>\n",
       "      <th>gender_F</th>\n",
       "      <th>gender_O</th>\n",
       "    </tr>\n",
       "    <tr>\n",
       "      <th>id</th>\n",
       "      <th></th>\n",
       "      <th></th>\n",
       "      <th></th>\n",
       "      <th></th>\n",
       "      <th></th>\n",
       "    </tr>\n",
       "  </thead>\n",
       "  <tbody>\n",
       "    <tr>\n",
       "      <th>68be06ca386d4c31939f3a4f0e3dd783</th>\n",
       "      <td>NaN</td>\n",
       "      <td>17209</td>\n",
       "      <td>NaN</td>\n",
       "      <td>NaN</td>\n",
       "      <td>NaN</td>\n",
       "    </tr>\n",
       "    <tr>\n",
       "      <th>0610b486422d4921ae7d2bf64640c50b</th>\n",
       "      <td>55.0</td>\n",
       "      <td>17362</td>\n",
       "      <td>112000.0</td>\n",
       "      <td>1.0</td>\n",
       "      <td>0.0</td>\n",
       "    </tr>\n",
       "    <tr>\n",
       "      <th>38fe809add3b4fcf9315a9694bb96ff5</th>\n",
       "      <td>NaN</td>\n",
       "      <td>17724</td>\n",
       "      <td>NaN</td>\n",
       "      <td>NaN</td>\n",
       "      <td>NaN</td>\n",
       "    </tr>\n",
       "    <tr>\n",
       "      <th>78afa995795e4d85b5d9ceeca43f5fef</th>\n",
       "      <td>75.0</td>\n",
       "      <td>17295</td>\n",
       "      <td>100000.0</td>\n",
       "      <td>1.0</td>\n",
       "      <td>0.0</td>\n",
       "    </tr>\n",
       "    <tr>\n",
       "      <th>a03223e636434f42ac4c3df47e8bac43</th>\n",
       "      <td>NaN</td>\n",
       "      <td>17382</td>\n",
       "      <td>NaN</td>\n",
       "      <td>NaN</td>\n",
       "      <td>NaN</td>\n",
       "    </tr>\n",
       "  </tbody>\n",
       "</table>\n",
       "</div>"
      ],
      "text/plain": [
       "                                   age  became_member_on    income  gender_F  \\\n",
       "id                                                                             \n",
       "68be06ca386d4c31939f3a4f0e3dd783   NaN             17209       NaN       NaN   \n",
       "0610b486422d4921ae7d2bf64640c50b  55.0             17362  112000.0       1.0   \n",
       "38fe809add3b4fcf9315a9694bb96ff5   NaN             17724       NaN       NaN   \n",
       "78afa995795e4d85b5d9ceeca43f5fef  75.0             17295  100000.0       1.0   \n",
       "a03223e636434f42ac4c3df47e8bac43   NaN             17382       NaN       NaN   \n",
       "\n",
       "                                  gender_O  \n",
       "id                                          \n",
       "68be06ca386d4c31939f3a4f0e3dd783       NaN  \n",
       "0610b486422d4921ae7d2bf64640c50b       0.0  \n",
       "38fe809add3b4fcf9315a9694bb96ff5       NaN  \n",
       "78afa995795e4d85b5d9ceeca43f5fef       0.0  \n",
       "a03223e636434f42ac4c3df47e8bac43       NaN  "
      ]
     },
     "execution_count": 91,
     "metadata": {},
     "output_type": "execute_result"
    }
   ],
   "source": [
    "profile_df.head()"
   ]
  },
  {
   "cell_type": "code",
   "execution_count": null,
   "metadata": {},
   "outputs": [],
   "source": []
  },
  {
   "cell_type": "markdown",
   "metadata": {},
   "source": [
    "## Explore transcript dataframe"
   ]
  },
  {
   "cell_type": "code",
   "execution_count": 11,
   "metadata": {},
   "outputs": [
    {
     "name": "stdout",
     "output_type": "stream",
     "text": [
      "[  0 168 336 408 504 576]\n"
     ]
    },
    {
     "data": {
      "image/png": "[encoded data removed]",
      "text/plain": [
       "<Figure size 432x288 with 1 Axes>"
      ]
     },
     "metadata": {
      "needs_background": "light"
     },
     "output_type": "display_data"
    }
   ],
   "source": [
    "sns.distplot(transcript.time)\n",
    "starts = transcript[transcript.event == 'offer received'].time.unique()\n",
    "print(transcript[transcript.event == 'offer received'].time.unique())"
   ]
  },
  {
   "cell_type": "code",
   "execution_count": 12,
   "metadata": {},
   "outputs": [
    {
     "data": {
      "text/plain": [
       "<matplotlib.axes._subplots.AxesSubplot at 0x7f9969370240>"
      ]
     },
     "execution_count": 12,
     "metadata": {},
     "output_type": "execute_result"
    },
    {
     "data": {
      "image/png": "[encoded data removed]",
      "text/plain": [
       "<Figure size 432x288 with 1 Axes>"
      ]
     },
     "metadata": {
      "needs_background": "light"
     },
     "output_type": "display_data"
    }
   ],
   "source": [
    "# it looks like there is a correlation between offer receipt and transactions\n",
    "sns.distplot(transcript[transcript.event == 'transaction'].time)"
   ]
  },
  {
   "cell_type": "code",
   "execution_count": 13,
   "metadata": {},
   "outputs": [
    {
     "data": {
      "text/plain": [
       "array([  0,   6,  12,  18,  24,  30,  36,  42,  48,  54,  60,  66,  72,\n",
       "        78,  84,  90,  96, 102, 108, 114, 120, 126, 132, 138, 144, 150,\n",
       "       156, 162, 168, 174, 180, 186, 192, 198, 204, 210, 216, 222, 228,\n",
       "       234, 240, 246, 252, 258, 264, 270, 276, 282, 288, 294, 300, 306,\n",
       "       312, 318, 324, 330, 336, 342, 348, 354, 360, 366, 372, 378, 384,\n",
       "       390, 396, 402, 408, 414, 420, 426, 432, 438, 444, 450, 456, 462,\n",
       "       468, 474, 480, 486, 492, 498, 504, 510, 516, 522, 528, 534, 540,\n",
       "       546, 552, 558, 564, 570, 576, 582, 588, 594, 600, 606, 612, 618,\n",
       "       624, 630, 636, 642, 648, 654, 660, 666, 672, 678, 684, 690, 696,\n",
       "       702, 708, 714])"
      ]
     },
     "execution_count": 13,
     "metadata": {},
     "output_type": "execute_result"
    }
   ],
   "source": [
    "# time is in six hour periods\n",
    "# people receive offers at midnight\n",
    "transcript.time.unique()"
   ]
  },
  {
   "cell_type": "code",
   "execution_count": 14,
   "metadata": {},
   "outputs": [
    {
     "data": {
      "text/plain": [
       "14.0"
      ]
     },
     "execution_count": 14,
     "metadata": {},
     "output_type": "execute_result"
    }
   ],
   "source": [
    "336/24"
   ]
  },
  {
   "cell_type": "code",
   "execution_count": 15,
   "metadata": {},
   "outputs": [
    {
     "data": {
      "text/plain": [
       "120"
      ]
     },
     "execution_count": 15,
     "metadata": {},
     "output_type": "execute_result"
    }
   ],
   "source": [
    "len(transcript.time.unique())"
   ]
  },
  {
   "cell_type": "code",
   "execution_count": 16,
   "metadata": {},
   "outputs": [
    {
     "data": {
      "text/plain": [
       "566.6666666666666"
      ]
     },
     "execution_count": 16,
     "metadata": {},
     "output_type": "execute_result"
    }
   ],
   "source": [
    "profile_df.shape[0] / 30"
   ]
  },
  {
   "cell_type": "markdown",
   "metadata": {},
   "source": [
    "## Make Panel Dataset"
   ]
  },
  {
   "cell_type": "markdown",
   "metadata": {},
   "source": [
    "#### Discussion\n",
    "\n",
    "##### Data\n",
    "I am pooling data into one-day time periods.\n",
    "\n",
    "##### Causal inference\n",
    "I am making each experiment into a time period and analyzing the experiments as panel data. This allows me to approaches like fixed effects, and in general allows me to take advantage of variation across experiments rather than simple focusing on variation within them. Importantly, this allows me to take advantage of big-N small-T asymptotics. I don't know enough about time series analysis to approach this problem differently. What I know about splines, kernels, and kernel-based (local) regression methods suggests I would have problems with dimensionality were I to use them.\n",
    "\n",
    "As of right now, I haven't checked to see if I can presume random assignment. I also need to see if every person receives an offer in each experiment. If they do not receive offers in every experiment, I have a no-treatment control group. If I have RA with a control group, the problem is a simple matter of linear regression (if RA process is perfect). If I have RA without a control group, I would take the same approach but the interpretation would change. If I do not have RA but do have a control group, I should do difference-in-differences. If I have no RA and no control group, causality is less certain and the interpretation is a comparison of treatments.\n",
    "\n",
    "In general, it would be ideal for me to report results from multiple models. One model is OLS without FE, another model is OLS with person and time FE. I will cluster standard errors by person either way. Regardless of the situation, both approaches are important because FE precludes covariates that are constant over time. We need those variables to estimate heterogeneous effects. Still, one advantage of FE is that we can include customers who have missing values in all of their profile characteristics.\n",
    "\n",
    "Note that person FE account for the innate features the Starbucks person described, and time FE accounts for differences in experiment implementation such as the number of days since the prior wave of offers was issued.\n",
    "\n",
    "\n",
    "##### Prediction\n",
    "After the causal inference analysis described above, I will use prediction methods that allow for arbitrary nonlinearity. I'm not sure yet how I will approach this. \n",
    "\n",
    "I can try to estimate latent variables using PCA. That would allow me to incorporate concepts like total transaction amount outside of experiment timeframes or over the course of the entire multi-year period. I would also like to cluster people into different spending trajectories. I forget the name of the method commonly used to do that, but I can find out."
   ]
  },
  {
   "cell_type": "code",
   "execution_count": 17,
   "metadata": {},
   "outputs": [
    {
     "data": {
      "text/plain": [
       "array([  0,   6,  12,  18,  24,  30,  36,  42,  48,  54,  60,  66,  72,\n",
       "        78,  84,  90,  96, 102, 108, 114, 120, 126, 132, 138, 144, 150,\n",
       "       156, 162, 168, 174, 180, 186, 192, 198, 204, 210, 216, 222, 228,\n",
       "       234, 240, 246, 252, 258, 264, 270, 276, 282, 288, 294, 300, 306,\n",
       "       312, 318, 324, 330, 336, 342, 348, 354, 360, 366, 372, 378, 384,\n",
       "       390, 396, 402, 408, 414, 420, 426, 432, 438, 444, 450, 456, 462,\n",
       "       468, 474, 480, 486, 492, 498, 504, 510, 516, 522, 528, 534, 540,\n",
       "       546, 552, 558, 564, 570, 576, 582, 588, 594, 600, 606, 612, 618,\n",
       "       624, 630, 636, 642, 648, 654, 660, 666, 672, 678, 684, 690, 696,\n",
       "       702, 708, 714])"
      ]
     },
     "execution_count": 17,
     "metadata": {},
     "output_type": "execute_result"
    }
   ],
   "source": [
    "transcript.time.unique()"
   ]
  },
  {
   "cell_type": "code",
   "execution_count": 18,
   "metadata": {},
   "outputs": [
    {
     "data": {
      "text/plain": [
       "array([  0,  24,  48,  72,  96, 120, 144, 168, 192, 216, 240, 264, 288,\n",
       "       312, 336, 360, 384, 408, 432, 456, 480, 504, 528, 552, 576, 600,\n",
       "       624, 648, 672, 696])"
      ]
     },
     "execution_count": 18,
     "metadata": {},
     "output_type": "execute_result"
    }
   ],
   "source": [
    "transcript.time.unique()[np.where(transcript.time.unique() % 24 == 0)]"
   ]
  },
  {
   "cell_type": "code",
   "execution_count": 19,
   "metadata": {},
   "outputs": [],
   "source": [
    "def make_system(people, times):\n",
    "    result = pd.DataFrame()\n",
    "    for person in people:\n",
    "        person_t = np.full(shape=len(times), fill_value=person, dtype=object)\n",
    "        N_T = pd.DataFrame({'person': person_t, 'time': times})\n",
    "        result = result.append(N_T)\n",
    "    result = result.reset_index(drop=True)\n",
    "    return result"
   ]
  },
  {
   "cell_type": "code",
   "execution_count": 20,
   "metadata": {},
   "outputs": [],
   "source": [
    "panel_system = make_system(transcript.person.unique(), transcript.time.unique())\n",
    "panel_system.to_csv('data/panel_system')"
   ]
  },
  {
   "cell_type": "code",
   "execution_count": 30,
   "metadata": {},
   "outputs": [],
   "source": [
    "def make_panel_dataset(panels, transcript_df, profile_df):\n",
    "    transcript_df = transcript_df.copy()\n",
    "    \n",
    "    profile_df = clean_profile_df(profile_df)\n",
    "\n",
    "    # format/split value column into columns that describe events\n",
    "    transcript_df['offer_id'] = transcript_df['value'].apply(lambda x: x.get('offer id', np.nan))\n",
    "    transcript_df['amount'] = transcript_df['value'].apply(lambda x: x.get('amount', 0))\n",
    "    transcript_df['reward'] = transcript_df['value'].apply(lambda x: x.get('reward', 0))\n",
    "    transcript_df = transcript_df.drop(columns='value')\n",
    "    \n",
    "   # convert offer and event columns to dummies\n",
    "    transcript_df = pd.get_dummies(transcript_df, columns=['event'])\n",
    "    \n",
    "    # split transcript events into separate dataframes\n",
    "    receipts = transcript_df[transcript_df['event_offer received']==1]\n",
    "    receipts = receipts.drop(columns=['event_offer viewed', 'event_offer completed', 'event_transaction', \n",
    "                                      'amount', 'reward'])\n",
    "    receipts = receipts.rename(columns={'offer_id': 'offered', 'event_offer received': 'offer_received'})\n",
    "    receipts = pd.get_dummies(receipts, columns=['offered'])\n",
    "    \n",
    "    views = transcript_df[transcript_df['event_offer viewed']==1]\n",
    "    views = views.drop(columns=['event_offer received', 'event_offer completed', 'event_transaction', \n",
    "                                'amount', 'reward'])\n",
    "    views = views.rename(columns={'offer_id': 'viewed', 'event_offer viewed': 'offer_viewed'})\n",
    "    views = pd.get_dummies(views, columns=['viewed'])\n",
    "    \n",
    "    completions = transcript_df[transcript_df['event_offer completed']==1]\n",
    "    completions = completions.drop(columns=['event_offer received', 'event_offer viewed', 'event_transaction', \n",
    "                                            'amount', 'offer_id', 'reward'])\n",
    "    completions = completions.rename(columns={'event_offer completed': 'offer_completed'})\n",
    "    \n",
    "    # merge transcript to panels\n",
    "    panels = panels.merge(receipts, on=['person', 'time'], how='left')\n",
    "    panels = panels.merge(views, on=['person', 'time'], how='left')\n",
    "    panels = panels.merge(completions, on=['person', 'time'], how='left')\n",
    "    \n",
    "    # adjust missing values to reflect treatment assignment\n",
    "    for person in panels.person.unique():\n",
    "        panels.loc[panels.person==person, :] = panels.loc[panels.person==person, :].fillna(method='ffill')\n",
    "    panels = panels.fillna(0)\n",
    "    \n",
    "    # now bring in offer rewards and transactions\n",
    "    rewards = transcript_df[transcript_df['event_offer completed']==1]\n",
    "    rewards = rewards.drop(columns=['event_offer received', 'event_offer viewed', 'event_transaction', \n",
    "                                    'amount', 'offer_id', 'event_offer completed'])\n",
    "    transactions = transcript_df[transcript_df['event_transaction']==1]\n",
    "    transactions = transactions.drop(columns=['event_offer received', 'event_offer viewed', 'event_transaction',\n",
    "                                              'reward', 'offer_id', 'event_offer completed'])\n",
    "    \n",
    "    panels = panels.merge(rewards, on=['person', 'time'], how='left')\n",
    "    panels = panels.merge(transactions, on=['person', 'time'], how='left')\n",
    "    panels = panels.fillna(0)\n",
    "\n",
    "    # shrink time periods to days instead of 6-hour intervals\n",
    "    panels['day'] = 0\n",
    "    starts = panels.time.unique()[np.where(panels.time.unique() % 24 == 0)] \n",
    "    day = 1\n",
    "    for i in starts:\n",
    "        panels.loc[(panels.time >= i) & (panels.time <= i + 18), 'day'] = day\n",
    "        day += 1\n",
    "    panels = panels.groupby(['person', 'day']).sum()\n",
    "    \n",
    "    # adjust dummies that were summed\n",
    "    for col in ['offered_0b1e1539f2cc45b7b9fa7c272da2e1d7',\n",
    "               'offered_2298d6c36e964ae4a3e7e9706d1fb8c2',\n",
    "               'offered_2906b810c7d4411798c6938adc9daaa5',\n",
    "               'offered_3f207df678b143eea3cee63160fa8bed',\n",
    "               'offered_4d5c57ea9a6940dd891ad53e9dbe8da0',\n",
    "               'offered_5a8bc65990b245e5a138643cd4eb9837',\n",
    "               'offered_9b98b8c7a33c4b65b9aebfe6a799e6d9',\n",
    "               'offered_ae264e3637204a6fb9bb56bc8210ddfd',\n",
    "               'offered_f19421c1d4aa40978ebb69ca19b0e20d',\n",
    "               'offered_fafdcd668e3743c1bb461111dcafc2a4', \n",
    "               'viewed_0b1e1539f2cc45b7b9fa7c272da2e1d7',\n",
    "               'viewed_2298d6c36e964ae4a3e7e9706d1fb8c2',\n",
    "               'viewed_2906b810c7d4411798c6938adc9daaa5',\n",
    "               'viewed_3f207df678b143eea3cee63160fa8bed',\n",
    "               'viewed_4d5c57ea9a6940dd891ad53e9dbe8da0',\n",
    "               'viewed_5a8bc65990b245e5a138643cd4eb9837',\n",
    "               'viewed_9b98b8c7a33c4b65b9aebfe6a799e6d9',\n",
    "               'viewed_ae264e3637204a6fb9bb56bc8210ddfd',\n",
    "               'viewed_f19421c1d4aa40978ebb69ca19b0e20d',\n",
    "               'viewed_fafdcd668e3743c1bb461111dcafc2a4']:\n",
    "        panels.loc[panels[col] > 1, col] = 1\n",
    "    \n",
    "    # create outcome variable\n",
    "    panels['revenue'] = panels.amount - panels.reward\n",
    "    \n",
    "    # merge profile characteristics\n",
    "    panels = panels.merge(profile_df, left_index=True, right_on='id')\n",
    "    \n",
    "    # drop unused variables\n",
    "    panels = panels.drop(columns=['Unnamed: 0', 'time', 'offer_received', 'offer_viewed', 'offer_completed'])\n",
    "    \n",
    "    return panels"
   ]
  },
  {
   "cell_type": "code",
   "execution_count": 31,
   "metadata": {},
   "outputs": [],
   "source": [
    "panel_system = pd.read_csv('data/panel_system')\n",
    "panel_dataset = make_panel_dataset(panel_system, transcript, profile)\n",
    "panel_dataset.to_csv('data/panel_dataset')"
   ]
  },
  {
   "cell_type": "code",
   "execution_count": null,
   "metadata": {},
   "outputs": [],
   "source": []
  },
  {
   "cell_type": "code",
   "execution_count": 237,
   "metadata": {},
   "outputs": [],
   "source": [
    "def make_collapsed_dataset(panels, transcript_df, profile_df):\n",
    "    transcript_df = transcript_df.copy()  \n",
    "    profile_df = clean_profile_df(profile_df)\n",
    "\n",
    "    # format/split value column into columns that describe events\n",
    "    transcript_df['offer_id'] = transcript_df['value'].apply(lambda x: x.get('offer id', np.nan))\n",
    "    transcript_df['amount'] = transcript_df['value'].apply(lambda x: x.get('amount', 0))\n",
    "    transcript_df['reward'] = transcript_df['value'].apply(lambda x: x.get('reward', 0))\n",
    "    transcript_df = transcript_df.drop(columns='value')\n",
    "    \n",
    "    # get treatment assignment times\n",
    "    assignment_times = transcript_df[transcript_df.event == 'offer received'].time.unique()\n",
    "    \n",
    "    # convert offer and event columns to dummies\n",
    "    transcript_df = pd.get_dummies(transcript_df, columns=['event'])\n",
    "    \n",
    "    # split transcript events into separate dataframes\n",
    "    receipts = transcript_df[transcript_df['event_offer received']==1]\n",
    "    receipts = receipts.drop(columns=['event_offer viewed', 'event_offer completed', 'event_transaction', \n",
    "                                      'amount', 'reward'])\n",
    "    receipts = receipts.rename(columns={'offer_id': 'offered', 'event_offer received': 'offer_received'})\n",
    "    receipts = pd.get_dummies(receipts, columns=['offered'])\n",
    "    \n",
    "    views = transcript_df[transcript_df['event_offer viewed']==1]\n",
    "    views = views.drop(columns=['event_offer received', 'event_offer completed', 'event_transaction', \n",
    "                                'amount', 'reward'])\n",
    "    views = views.rename(columns={'offer_id': 'viewed', 'event_offer viewed': 'offer_viewed'})\n",
    "    views = pd.get_dummies(views, columns=['viewed'])\n",
    "    \n",
    "    completions = transcript_df[transcript_df['event_offer completed']==1]\n",
    "    completions = completions.drop(columns=['event_offer received', 'event_offer viewed', 'event_transaction', \n",
    "                                            'amount', 'offer_id', 'reward'])\n",
    "    completions = completions.rename(columns={'event_offer completed': 'offer_completed'})\n",
    "    \n",
    "    # merge transcript to panels\n",
    "    panels = panels.merge(receipts, on=['person', 'time'], how='left')\n",
    "    panels = panels.merge(views, on=['person', 'time'], how='left')\n",
    "    panels = panels.merge(completions, on=['person', 'time'], how='left')\n",
    "    \n",
    "    # adjust missing values\n",
    "    panels = panels.fillna(0)\n",
    "    \n",
    "    # merge profile characteristics\n",
    "    panels = panels.merge(profile_df, left_on='person', right_on='id')\n",
    "    \n",
    "    # drop unused variables\n",
    "    panels = panels.drop(columns=['Unnamed: 0', 'offer_received', 'offer_viewed', 'offer_completed'])\n",
    "    \n",
    "    # convert times to days\n",
    "    panels['day'] = 0\n",
    "    starts = panels.time.unique()[np.where(panels.time.unique() % 24 == 0)] \n",
    "    day = 0\n",
    "    for i in starts:\n",
    "        day += 1\n",
    "        panels.loc[(panels.time >= i) & (panels.time <= i + 18), 'day'] = day\n",
    "        \n",
    "    # keep only treatment assignment days\n",
    "    panels = panels[panels.time.isin(assignment_times)].drop(columns='time')\n",
    "    \n",
    "    panels = panels.reset_index(drop=True)\n",
    "    \n",
    "    return panels"
   ]
  },
  {
   "cell_type": "code",
   "execution_count": 238,
   "metadata": {},
   "outputs": [],
   "source": [
    "ra_days = make_collapsed_dataset(panel_system, transcript, profile)"
   ]
  },
  {
   "cell_type": "code",
   "execution_count": 144,
   "metadata": {},
   "outputs": [],
   "source": [
    "def collapse_panels(panels):\n",
    "    panels = panels.reset_index()\n",
    "    cats = panels.drop(columns=['day', 'reward', 'amount', 'revenue'])\n",
    "    cats = cats.groupby(['person']).max()\n",
    "    conts = panels.loc[:, ['person', 'reward', 'amount', 'revenue']].groupby('person').sum()\n",
    "    collapsed = cats.merge(conts, how='left', left_index=True, right_index=True)\n",
    "    return collapsed"
   ]
  },
  {
   "cell_type": "code",
   "execution_count": 145,
   "metadata": {},
   "outputs": [],
   "source": [
    "collapsed_df = collapse_panels(panel_dataset)"
   ]
  },
  {
   "cell_type": "markdown",
   "metadata": {},
   "source": [
    "## Group characteristics and comparisons"
   ]
  },
  {
   "cell_type": "code",
   "execution_count": 210,
   "metadata": {
    "scrolled": true
   },
   "outputs": [
    {
     "name": "stdout",
     "output_type": "stream",
     "text": [
      "age\n",
      "group\tmean\n",
      "1\t54.830\n",
      "2\t54.382\n",
      "3\t53.702\n",
      "4\t55.300\n",
      "5\t53.743\n",
      "6\t54.240\n",
      "7\t54.393\n",
      "8\t53.643\n",
      "9\t54.633\n",
      "10\t54.444\n",
      "control\t54.567\n",
      "\n",
      "became_member_on\n",
      "group\tmean\n",
      "1\t17222.621\n",
      "2\t17239.314\n",
      "3\t17224.182\n",
      "4\t17217.164\n",
      "5\t17225.572\n",
      "6\t17226.249\n",
      "7\t17213.002\n",
      "8\t17212.550\n",
      "9\t17218.645\n",
      "10\t17212.666\n",
      "control\t17219.020\n",
      "\n",
      "income\n",
      "group\tmean\n",
      "1\t65133.624\n",
      "2\t65715.356\n",
      "3\t64675.824\n",
      "4\t65225.339\n",
      "5\t65616.030\n",
      "6\t66011.927\n",
      "7\t64343.284\n",
      "8\t66282.301\n",
      "9\t65313.975\n",
      "10\t65568.935\n",
      "control\t65443.188\n",
      "\n",
      "gender_F\n",
      "group\tmean\n",
      "1\t0.424\n",
      "2\t0.417\n",
      "3\t0.397\n",
      "4\t0.405\n",
      "5\t0.407\n",
      "6\t0.434\n",
      "7\t0.422\n",
      "8\t0.436\n",
      "9\t0.414\n",
      "10\t0.393\n",
      "control\t0.409\n",
      "\n",
      "gender_O\n",
      "group\tmean\n",
      "1\t0.012\n",
      "2\t0.016\n",
      "3\t0.013\n",
      "4\t0.018\n",
      "5\t0.010\n",
      "6\t0.011\n",
      "7\t0.020\n",
      "8\t0.014\n",
      "9\t0.015\n",
      "10\t0.017\n",
      "control\t0.013\n",
      "\n"
     ]
    }
   ],
   "source": [
    "# group means on day 1 (first treatment assignment)\n",
    "df = panel_dataset.reset_index()\n",
    "df = df[df.day == 1]\n",
    "treat_1 = df[df['offered_0b1e1539f2cc45b7b9fa7c272da2e1d7'] == 1]\n",
    "treat_2 = df[df['offered_2298d6c36e964ae4a3e7e9706d1fb8c2'] == 1]\n",
    "treat_3 = df[df['offered_2906b810c7d4411798c6938adc9daaa5'] == 1]\n",
    "treat_4 = df[df['offered_3f207df678b143eea3cee63160fa8bed'] == 1]\n",
    "treat_5 = df[df['offered_4d5c57ea9a6940dd891ad53e9dbe8da0'] == 1]\n",
    "treat_6 = df[df['offered_5a8bc65990b245e5a138643cd4eb9837'] == 1]\n",
    "treat_7 = df[df['offered_9b98b8c7a33c4b65b9aebfe6a799e6d9'] == 1]\n",
    "treat_8 = df[df['offered_ae264e3637204a6fb9bb56bc8210ddfd'] == 1]\n",
    "treat_9 = df[df['offered_f19421c1d4aa40978ebb69ca19b0e20d'] == 1]\n",
    "treat_10 = df[df['offered_fafdcd668e3743c1bb461111dcafc2a4'] == 1]\n",
    "\n",
    "control = df[(df['offered_0b1e1539f2cc45b7b9fa7c272da2e1d7'] == 0) & \n",
    "             (df['offered_2298d6c36e964ae4a3e7e9706d1fb8c2'] == 0) &\n",
    "             (df['offered_2906b810c7d4411798c6938adc9daaa5'] == 0) &\n",
    "             (df['offered_3f207df678b143eea3cee63160fa8bed'] == 0) &\n",
    "             (df['offered_4d5c57ea9a6940dd891ad53e9dbe8da0'] == 0) &\n",
    "             (df['offered_5a8bc65990b245e5a138643cd4eb9837'] == 0) &\n",
    "             (df['offered_9b98b8c7a33c4b65b9aebfe6a799e6d9'] == 0) &\n",
    "             (df['offered_ae264e3637204a6fb9bb56bc8210ddfd'] == 0) &\n",
    "             (df['offered_f19421c1d4aa40978ebb69ca19b0e20d'] == 0) &\n",
    "             (df['offered_fafdcd668e3743c1bb461111dcafc2a4'] == 0)\n",
    "            ]\n",
    "\n",
    "for var in ['age', 'became_member_on', 'income', 'gender_F', 'gender_O']:\n",
    "    print(var)\n",
    "    print('group\\tmean')\n",
    "    i = 0\n",
    "    for group in [treat_1, treat_2, treat_3, treat_4, treat_5, treat_6, treat_7, treat_8, treat_9, treat_10]:\n",
    "        i += 1\n",
    "        print(f'{i}\\t{group[var].mean():.3f}')\n",
    "    print(f'control\\t{control[var].mean():.3f}')\n",
    "    print()"
   ]
  },
  {
   "cell_type": "code",
   "execution_count": 220,
   "metadata": {
    "scrolled": true
   },
   "outputs": [
    {
     "name": "stdout",
     "output_type": "stream",
     "text": [
      "day 1\n",
      "age\tF=0.958877802647009\tp-value=0.47732741822985336\n",
      "became_member_on\tF=0.47294811390227176\tp-value=0.9084731823752207\n",
      "income\tF=0.7104945776298444\tp-value=0.7154812868802685\n",
      "gender_F\tF=0.9283849530159005\tp-value=0.5054313312391335\n",
      "gender_O\tF=0.6730237952212523\tp-value=0.7506164195329075\n",
      "\n",
      "day 8\n",
      "age\tF=0.6755783769695126\tp-value=0.748255591189772\n",
      "became_member_on\tF=1.3277344760986483\tp-value=0.20868481229988753\n",
      "income\tF=0.3739288960850112\tp-value=0.9583216077865024\n",
      "gender_F\tF=1.8046182652985432\tp-value=0.05429120063857042\n",
      "gender_O\tF=0.690161015619778\tp-value=0.7346758741668871\n",
      "\n",
      "day 15\n",
      "age\tF=0.3726188075497833\tp-value=0.9588340207302598\n",
      "became_member_on\tF=0.740996942476933\tp-value=0.6862443951289401\n",
      "income\tF=0.8657632918973063\tp-value=0.5648925974000408\n",
      "gender_F\tF=0.5692293312558147\tp-value=0.8403838944765243\n",
      "gender_O\tF=1.0102303487247843\tp-value=0.43162629225008886\n",
      "\n",
      "day 18\n",
      "age\tF=0.4686448459860294\tp-value=0.9110845136837205\n",
      "became_member_on\tF=0.4309974065174359\tp-value=0.932257789372052\n",
      "income\tF=0.592913880293346\tp-value=0.8211469791923578\n",
      "gender_F\tF=1.345664294357647\tp-value=0.19937433000112517\n",
      "gender_O\tF=0.9314884401127659\tp-value=0.5025415364739632\n",
      "\n",
      "day 22\n",
      "age\tF=0.6446359356772065\tp-value=0.7764424789925096\n",
      "became_member_on\tF=0.951422359704728\tp-value=0.4841318050388248\n",
      "income\tF=0.4952623238338393\tp-value=0.8942869471247558\n",
      "gender_F\tF=1.1085744690366999\tp-value=0.3509651252470701\n",
      "gender_O\tF=1.4269591442991392\tp-value=0.16117504408924516\n",
      "\n",
      "day 25\n",
      "age\tF=0.6775671400062943\tp-value=0.7464138870557584\n",
      "became_member_on\tF=0.7122879010445351\tp-value=0.7137783690229623\n",
      "income\tF=0.6019962433992014\tp-value=0.8135496720325479\n",
      "gender_F\tF=0.5926431998116258\tp-value=0.8213716237759118\n",
      "gender_O\tF=1.8421479634623377\tp-value=0.04835301768613161\n",
      "\n"
     ]
    }
   ],
   "source": [
    "# F tests\n",
    "for day in ra_days.day.unique():\n",
    "    print(f'day {day}')\n",
    "    for var in ['age', 'became_member_on', 'income', 'gender_F', 'gender_O']:\n",
    "        df = ra_days[(ra_days.day==day) & (ra_days[var].notnull())]\n",
    "        model = smf.ols(var + ' ~ offered_0b1e1539f2cc45b7b9fa7c272da2e1d7 + ' + \\\n",
    "                          'offered_2298d6c36e964ae4a3e7e9706d1fb8c2 + ' + \\\n",
    "                          'offered_2906b810c7d4411798c6938adc9daaa5 + ' + \\\n",
    "                          'offered_3f207df678b143eea3cee63160fa8bed + ' + \\\n",
    "                          'offered_4d5c57ea9a6940dd891ad53e9dbe8da0 + ' + \\\n",
    "                          'offered_5a8bc65990b245e5a138643cd4eb9837 + ' + \\\n",
    "                          'offered_9b98b8c7a33c4b65b9aebfe6a799e6d9 + ' + \\\n",
    "                          'offered_ae264e3637204a6fb9bb56bc8210ddfd + ' + \\\n",
    "                          'offered_f19421c1d4aa40978ebb69ca19b0e20d + ' + \\\n",
    "                          'offered_fafdcd668e3743c1bb461111dcafc2a4', data=df).fit(cov_type='HC1')\n",
    "        print(f'{var}\\tF={model.fvalue.item(0)}\\tp-value={model.f_pvalue.item(0)}')\n",
    "    print()"
   ]
  },
  {
   "cell_type": "code",
   "execution_count": 235,
   "metadata": {},
   "outputs": [
    {
     "name": "stdout",
     "output_type": "stream",
     "text": [
      "day 1\n",
      "offered_0b1e1539f2cc45b7b9fa7c272da2e1d7    0.076294\n",
      "offered_2298d6c36e964ae4a3e7e9706d1fb8c2    0.071824\n",
      "offered_2906b810c7d4411798c6938adc9daaa5    0.073941\n",
      "offered_3f207df678b143eea3cee63160fa8bed    0.074882\n",
      "offered_4d5c57ea9a6940dd891ad53e9dbe8da0    0.071647\n",
      "offered_5a8bc65990b245e5a138643cd4eb9837    0.074471\n",
      "offered_9b98b8c7a33c4b65b9aebfe6a799e6d9    0.073235\n",
      "offered_ae264e3637204a6fb9bb56bc8210ddfd    0.076000\n",
      "offered_f19421c1d4aa40978ebb69ca19b0e20d    0.074294\n",
      "offered_fafdcd668e3743c1bb461111dcafc2a4    0.077529\n",
      "dtype: float64\n",
      "control\t 0.25588235294117645\n",
      "\n",
      "day 8\n",
      "offered_0b1e1539f2cc45b7b9fa7c272da2e1d7    0.073227\n",
      "offered_2298d6c36e964ae4a3e7e9706d1fb8c2    0.073696\n",
      "offered_2906b810c7d4411798c6938adc9daaa5    0.075045\n",
      "offered_3f207df678b143eea3cee63160fa8bed    0.074283\n",
      "offered_4d5c57ea9a6940dd891ad53e9dbe8da0    0.072992\n",
      "offered_5a8bc65990b245e5a138643cd4eb9837    0.074517\n",
      "offered_9b98b8c7a33c4b65b9aebfe6a799e6d9    0.076395\n",
      "offered_ae264e3637204a6fb9bb56bc8210ddfd    0.077569\n",
      "offered_f19421c1d4aa40978ebb69ca19b0e20d    0.074576\n",
      "offered_fafdcd668e3743c1bb461111dcafc2a4    0.073579\n",
      "dtype: float64\n",
      "control\t 0.2541219268908056\n",
      "\n",
      "day 15\n",
      "offered_0b1e1539f2cc45b7b9fa7c272da2e1d7    0.077691\n",
      "offered_2298d6c36e964ae4a3e7e9706d1fb8c2    0.076693\n",
      "offered_2906b810c7d4411798c6938adc9daaa5    0.074461\n",
      "offered_3f207df678b143eea3cee63160fa8bed    0.075107\n",
      "offered_4d5c57ea9a6940dd891ad53e9dbe8da0    0.075518\n",
      "offered_5a8bc65990b245e5a138643cd4eb9837    0.073757\n",
      "offered_9b98b8c7a33c4b65b9aebfe6a799e6d9    0.075048\n",
      "offered_ae264e3637204a6fb9bb56bc8210ddfd    0.073228\n",
      "offered_f19421c1d4aa40978ebb69ca19b0e20d    0.073463\n",
      "offered_fafdcd668e3743c1bb461111dcafc2a4    0.073169\n",
      "dtype: float64\n",
      "control\t 0.2518644664983264\n",
      "\n",
      "day 18\n",
      "offered_0b1e1539f2cc45b7b9fa7c272da2e1d7    0.074481\n",
      "offered_2298d6c36e964ae4a3e7e9706d1fb8c2    0.075300\n",
      "offered_2906b810c7d4411798c6938adc9daaa5    0.078632\n",
      "offered_3f207df678b143eea3cee63160fa8bed    0.074540\n",
      "offered_4d5c57ea9a6940dd891ad53e9dbe8da0    0.077170\n",
      "offered_5a8bc65990b245e5a138643cd4eb9837    0.075592\n",
      "offered_9b98b8c7a33c4b65b9aebfe6a799e6d9    0.075417\n",
      "offered_ae264e3637204a6fb9bb56bc8210ddfd    0.075826\n",
      "offered_f19421c1d4aa40978ebb69ca19b0e20d    0.073780\n",
      "offered_fafdcd668e3743c1bb461111dcafc2a4    0.072318\n",
      "dtype: float64\n",
      "control\t 0.2469453376205788\n",
      "\n",
      "day 22\n",
      "offered_0b1e1539f2cc45b7b9fa7c272da2e1d7    0.073784\n",
      "offered_2298d6c36e964ae4a3e7e9706d1fb8c2    0.075889\n",
      "offered_2906b810c7d4411798c6938adc9daaa5    0.076181\n",
      "offered_3f207df678b143eea3cee63160fa8bed    0.071971\n",
      "offered_4d5c57ea9a6940dd891ad53e9dbe8da0    0.077000\n",
      "offered_5a8bc65990b245e5a138643cd4eb9837    0.072498\n",
      "offered_9b98b8c7a33c4b65b9aebfe6a799e6d9    0.074369\n",
      "offered_ae264e3637204a6fb9bb56bc8210ddfd    0.073725\n",
      "offered_f19421c1d4aa40978ebb69ca19b0e20d    0.077058\n",
      "offered_fafdcd668e3743c1bb461111dcafc2a4    0.076006\n",
      "dtype: float64\n",
      "control\t 0.2515201122544434\n",
      "\n",
      "day 25\n",
      "offered_0b1e1539f2cc45b7b9fa7c272da2e1d7    0.074825\n",
      "offered_2298d6c36e964ae4a3e7e9706d1fb8c2    0.077745\n",
      "offered_2906b810c7d4411798c6938adc9daaa5    0.072021\n",
      "offered_3f207df678b143eea3cee63160fa8bed    0.075876\n",
      "offered_4d5c57ea9a6940dd891ad53e9dbe8da0    0.072897\n",
      "offered_5a8bc65990b245e5a138643cd4eb9837    0.075759\n",
      "offered_9b98b8c7a33c4b65b9aebfe6a799e6d9    0.078388\n",
      "offered_ae264e3637204a6fb9bb56bc8210ddfd    0.075467\n",
      "offered_f19421c1d4aa40978ebb69ca19b0e20d    0.073715\n",
      "offered_fafdcd668e3743c1bb461111dcafc2a4    0.075818\n",
      "dtype: float64\n",
      "control\t 0.2474883177570093\n",
      "\n"
     ]
    }
   ],
   "source": [
    "# Group size proportions (assignment probabilities)\n",
    "for day in ra_days.day.unique():\n",
    "    df_day = ra_days[ra_days.day == day]\n",
    "    df_day = df_day[['offered_0b1e1539f2cc45b7b9fa7c272da2e1d7',\n",
    "                   'offered_2298d6c36e964ae4a3e7e9706d1fb8c2',\n",
    "                   'offered_2906b810c7d4411798c6938adc9daaa5',\n",
    "                   'offered_3f207df678b143eea3cee63160fa8bed',\n",
    "                   'offered_4d5c57ea9a6940dd891ad53e9dbe8da0',\n",
    "                   'offered_5a8bc65990b245e5a138643cd4eb9837',\n",
    "                   'offered_9b98b8c7a33c4b65b9aebfe6a799e6d9',\n",
    "                   'offered_ae264e3637204a6fb9bb56bc8210ddfd',\n",
    "                   'offered_f19421c1d4aa40978ebb69ca19b0e20d',\n",
    "                   'offered_fafdcd668e3743c1bb461111dcafc2a4']]\n",
    "    print(f'day {day}')\n",
    "    print(df_day.sum() / df_day.shape[0])\n",
    "    print('control\\t', 1 - df_day.sum().sum() / df_day.shape[0])\n",
    "    print()"
   ]
  },
  {
   "cell_type": "code",
   "execution_count": 230,
   "metadata": {},
   "outputs": [
    {
     "name": "stdout",
     "output_type": "stream",
     "text": [
      "day\tchi-square\tp-value\n",
      "1\t7.304\t\t0.605\n",
      "8\t4.267\t\t0.893\n",
      "15\t4.719\t\t0.858\n",
      "18\t6.230\t\t0.717\n",
      "22\t6.886\t\t0.649\n",
      "25\t8.098\t\t0.524\n"
     ]
    }
   ],
   "source": [
    "# Assignment probability comparison\n",
    "print(f'day\\tchi-square\\tp-value')\n",
    "for day in ra_days.day.unique():\n",
    "    df_day = ra_days[ra_days.day == day]\n",
    "    df_day = df_day[['offered_0b1e1539f2cc45b7b9fa7c272da2e1d7',\n",
    "                   'offered_2298d6c36e964ae4a3e7e9706d1fb8c2',\n",
    "                   'offered_2906b810c7d4411798c6938adc9daaa5',\n",
    "                   'offered_3f207df678b143eea3cee63160fa8bed',\n",
    "                   'offered_4d5c57ea9a6940dd891ad53e9dbe8da0',\n",
    "                   'offered_5a8bc65990b245e5a138643cd4eb9837',\n",
    "                   'offered_9b98b8c7a33c4b65b9aebfe6a799e6d9',\n",
    "                   'offered_ae264e3637204a6fb9bb56bc8210ddfd',\n",
    "                   'offered_f19421c1d4aa40978ebb69ca19b0e20d',\n",
    "                   'offered_fafdcd668e3743c1bb461111dcafc2a4']]\n",
    "    chi2, p =  stats.chisquare(df_day.sum())\n",
    "    print(f'{day}\\t{chi2:.3f}\\t\\t{p:.3f}')"
   ]
  },
  {
   "cell_type": "markdown",
   "metadata": {},
   "source": [
    "## Causal Inference and Heterogenous Treatment Effects"
   ]
  },
  {
   "cell_type": "code",
   "execution_count": null,
   "metadata": {},
   "outputs": [],
   "source": []
  },
  {
   "cell_type": "code",
   "execution_count": null,
   "metadata": {},
   "outputs": [],
   "source": []
  },
  {
   "cell_type": "code",
   "execution_count": null,
   "metadata": {},
   "outputs": [],
   "source": []
  },
  {
   "cell_type": "code",
   "execution_count": null,
   "metadata": {},
   "outputs": [],
   "source": []
  },
  {
   "cell_type": "code",
   "execution_count": null,
   "metadata": {},
   "outputs": [],
   "source": []
  }
 ],
 "metadata": {
  "kernelspec": {
   "display_name": "Python 3",
   "language": "python",
   "name": "python3"
  },
  "language_info": {
   "codemirror_mode": {
    "name": "ipython",
    "version": 3
   },
   "file_extension": ".py",
   "mimetype": "text/x-python",
   "name": "python",
   "nbconvert_exporter": "python",
   "pygments_lexer": "ipython3",
   "version": "3.6.8"
  }
 },
 "nbformat": 4,
 "nbformat_minor": 2
}
